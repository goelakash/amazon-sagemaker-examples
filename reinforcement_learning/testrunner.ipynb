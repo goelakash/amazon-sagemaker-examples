{
 "cells": [
  {
   "cell_type": "code",
   "execution_count": null,
   "metadata": {},
   "outputs": [],
   "source": [
    "import itertools\n",
    "import json\n",
    "import os\n",
    "import pandas as pd\n",
    "import papermill\n",
    "import subprocess\n",
    "import sys\n",
    "from tabulate import tabulate\n",
    "import time\n",
    "import yaml"
   ]
  },
  {
   "cell_type": "code",
   "execution_count": null,
   "metadata": {},
   "outputs": [],
   "source": [
    "# CONSTANTS\n",
    "NOTEBOOKS_LIST_CONFIG_FILE = 'testnotebooks.yml'\n",
    "SUCCESSES = 0\n",
    "EXCEPTIONS = 0\n",
    "SUCCESSFUL_EXECUTIONS = []\n",
    "FAILED_EXECUTIONS = []\n",
    "CELL_EXECUTION_TIMEOUT_SECONDS = 1200"
   ]
  },
  {
   "cell_type": "code",
   "execution_count": null,
   "metadata": {},
   "outputs": [],
   "source": [
    "# helper functions\n",
    "\n",
    "def load_yaml(filepath):\n",
    "    return yaml.load(open(filepath), Loader=yaml.FullLoader)\n",
    "\n",
    "def get_param_combinations(config):\n",
    "    keys = []\n",
    "    values = []\n",
    "    for key,val in config.items():\n",
    "        keys.append(key)\n",
    "        values.append(val) # Appends a list called val to values array.\n",
    "    param_combinations = []\n",
    "    for row in itertools.product(*values):\n",
    "        param_combinations.append((dict(zip([k for k in keys], [v for v in row]))))\n",
    "    return param_combinations\n",
    "\n",
    "def run_notebook(nb_path, config_file_name):\n",
    "    dir_name = os.path.dirname(nb_path)\n",
    "    nb_name = os.path.basename(nb_path)\n",
    "    output_nb_name = \"output_{}.ipynb\".format(time.time())\n",
    "    os.chdir(dir_name)\n",
    "    print(\"Current directory: {}\".format(os.getcwd()))\n",
    "    nb_test_config = load_yaml(config_file_name)\n",
    "    global SUCCESSES\n",
    "    global EXCEPTIONS\n",
    "    for params in get_param_combinations(nb_test_config):        \n",
    "        print(\"\\nTEST: \" + nb_name + \" with parameters \" + str(params))\n",
    "        process = None\n",
    "        try:\n",
    "#             process = subprocess.run(['papermill', '--execution-timeout', str(CELL_EXECUTION_TIMEOUT_SECONDS), nb_name, output_nb_name],\n",
    "#                      capture_output=True, check=True)\n",
    "#             output = str(process.stdout)\n",
    "#             output = output.replace('\\r', '\\n')\n",
    "#             print(output)\n",
    "            papermill.execute_notebook(nb_name, output_nb_name, parameters=params, execution_timeout=CELL_EXECUTION_TIMEOUT_SECONDS, log_output=True)\n",
    "            SUCCESSES += 1\n",
    "            SUCCESSFUL_EXECUTIONS.append(dict({'notebook':nb_name, 'params':params}))\n",
    "        except BaseException as error:\n",
    "            print('An exception occurred: {}'.format(error))\n",
    "#             error = str(process.stderr)\n",
    "#             error = error.replace('\\r', '\\n')\n",
    "#             print(error)\n",
    "            EXCEPTIONS += 1\n",
    "            FAILED_EXECUTIONS.append(dict({'notebook':nb_name, 'params':params}))\n",
    "\n",
    "def print_notebook_executions(nb_list_with_params):\n",
    "    # This expects a list of dict type items.\n",
    "    # E.g. [{'nb_name':'foo', 'params':'bar'}]\n",
    "    if not nb_list_with_params:\n",
    "        print(\"None\")\n",
    "        return\n",
    "    vals = []\n",
    "    for nb_dict in nb_list_with_params:\n",
    "        val = []\n",
    "        for k,v in nb_dict.items():\n",
    "            val.append(v)\n",
    "        vals.append(val)\n",
    "    keys = [k for k in nb_list_with_params[0].keys()]\n",
    "    print(tabulate(pd.DataFrame([v for v in vals], columns=keys), showindex=False))"
   ]
  },
  {
   "cell_type": "code",
   "execution_count": null,
   "metadata": {},
   "outputs": [],
   "source": [
    "main_config = load_yaml(NOTEBOOKS_LIST_CONFIG_FILE)\n",
    "print(main_config)"
   ]
  },
  {
   "cell_type": "code",
   "execution_count": null,
   "metadata": {},
   "outputs": [],
   "source": [
    "test_notebooks_list = main_config['notebooks']"
   ]
  },
  {
   "cell_type": "code",
   "execution_count": null,
   "metadata": {},
   "outputs": [],
   "source": [
    "ROOT = os.path.abspath('.')\n",
    "\n",
    "for nb in test_notebooks_list:\n",
    "    os.chdir(ROOT)\n",
    "    print(\"Testing: {}\".format(nb))\n",
    "    config_file_name = main_config['configs'][nb]\n",
    "    print(\"Config file: {}\".format(config_file_name))\n",
    "    run_notebook(nb, config_file_name)"
   ]
  },
  {
   "cell_type": "code",
   "execution_count": null,
   "metadata": {},
   "outputs": [],
   "source": [
    "print(\"Summary: {}/{} tests passed.\".format(SUCCESSES, SUCCESSES + EXCEPTIONS))\n",
    "print(\"Successful executions: \")\n",
    "print_notebook_executions(SUCCESSFUL_EXECUTIONS)"
   ]
  },
  {
   "cell_type": "code",
   "execution_count": null,
   "metadata": {},
   "outputs": [],
   "source": [
    "if EXCEPTIONS > 0:\n",
    "    print(\"Failed executions: \")\n",
    "    print_notebook_executions(FAILED_EXECUTIONS)\n",
    "    raise Exception(\"Test did not complete successfully\")"
   ]
  },
  {
   "cell_type": "code",
   "execution_count": null,
   "metadata": {},
   "outputs": [],
   "source": []
  }
 ],
 "metadata": {
  "kernelspec": {
   "display_name": "Python 3",
   "language": "python",
   "name": "python3"
  },
  "language_info": {
   "codemirror_mode": {
    "name": "ipython",
    "version": 3
   },
   "file_extension": ".py",
   "mimetype": "text/x-python",
   "name": "python",
   "nbconvert_exporter": "python",
   "pygments_lexer": "ipython3",
   "version": "3.7.7"
  }
 },
 "nbformat": 4,
 "nbformat_minor": 4
}
